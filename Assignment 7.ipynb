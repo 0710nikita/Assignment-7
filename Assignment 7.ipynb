{
 "cells": [
  {
   "cell_type": "code",
   "execution_count": 1,
   "metadata": {},
   "outputs": [],
   "source": [
    "# Write a function so that the columns of the output matrix are powers of the input vector.\n",
    "\n",
    "# The order of the powers is determined by the increasing boolean argument. Specifically, when\n",
    "# increasing is False, the i-th output column is the input vector raised element-wise to the power of N - i - 1.\n",
    "\n",
    "# HINT: Such a matrix with a geometric progression in each row is named for Alexandre- Theophile Vandermonde.\n",
    "\n",
    "# Problem Statement 2:\n",
    "\n",
    "# Given a sequence of n values x1, x2, ..., xn and a window size k>0, the k-th moving average of\n",
    "# the given sequence is defined as follows:\n",
    "\n",
    "# The moving average sequence has n-k+1 elements as shown below.\n",
    "# The moving averages with k=4 of a ten-value sequence (n=10) is shown below\n",
    "# i 1 2 3 4 5 6 7 8 9 10\n",
    "# ===== == == == == == == == == == ==\n",
    "# Input 10 20 30 40 50 60 70 80 90 100\n",
    "# y1 25 = (10+20+30+40)/4\n",
    "# y2 35 = (20+30+40+50)/4\n",
    "# y3 45 = (30+40+50+60)/4\n",
    "# y4 55 = (40+50+60+70)/4\n",
    "# y5 65 = (50+60+70+80)/4\n",
    "# y6 75 = (60+70+80+90)/4\n",
    "# y7 85 = (70+80+90+100)/4\n",
    "\n",
    "# Thus, the moving average sequence has n-k+1=10-4+1=7 values.\n",
    "\n",
    "# Question: Write a function to find moving average in an array over a window:\n",
    "# Test it over [3, 5, 7, 2, 8, 10, 11, 65, 72, 81, 99, 100, 150] and window of 3."
   ]
  },
  {
   "cell_type": "code",
   "execution_count": 66,
   "metadata": {},
   "outputs": [
    {
     "name": "stdout",
     "output_type": "stream",
     "text": [
      "Moving Average Value List :  [array([  5.  ,   4.67,   5.67,   6.67,   9.67,  28.67,  49.33,  72.67,\n",
      "        84.  ,  93.33, 116.33])]\n",
      "\n",
      "Length of Moving Average Sequence n - k + 1 :  1\n"
     ]
    }
   ],
   "source": [
    "# with numpy\n",
    "import numpy as np\n",
    "\n",
    "def mov_avg(a, n):\n",
    "    sum = np.cumsum(a)\n",
    "    sum[n:] = sum[n:] - sum[:-n]\n",
    "    return sum[n - 1:] / n\n",
    "    \n",
    "a = [3, 5, 7, 2, 8, 10, 11, 65, 72, 81, 99, 100, 150]\n",
    "a1 = np.array(a)\n",
    "n = 3\n",
    "result = [np.array(mov_avg(a1, n)).round(2)]\n",
    "print(\"Moving Average Value List : \", result)\n",
    "print(\"\\nLength of Moving Average Sequence n - k + 1 : \", len(result))\n"
   ]
  },
  {
   "cell_type": "code",
   "execution_count": 67,
   "metadata": {},
   "outputs": [],
   "source": [
    "# without numpy\n",
    "def mov_avg(a1, n):\n",
    "    csum, mov_avgs = [0], []\n",
    "    for i, x in enumerate(a1, 1):\n",
    "        csum.append(csum[i - 1] + x)\n",
    "        if i >= n:\n",
    "            result = round(((csum[i] - csum[i - n]) / n), 2)\n",
    "            mov_avgs.append(result)\n",
    "    print('Moving average value list : ', mov_avgs)\n",
    "    print(\"Length of moving average sequence n - k + 1 : \", len(mov_avgs))"
   ]
  },
  {
   "cell_type": "code",
   "execution_count": 68,
   "metadata": {},
   "outputs": [
    {
     "name": "stdout",
     "output_type": "stream",
     "text": [
      "Moving average value list :  [5.0, 4.67, 5.67, 6.67, 9.67, 28.67, 49.33, 72.67, 84.0, 93.33, 116.33]\n",
      "Length of moving average sequence n - k + 1 :  11\n"
     ]
    }
   ],
   "source": [
    "a1 = [3, 5, 7, 2, 8, 10, 11, 65, 72, 81, 99, 100, 150]\n",
    "n = 3\n",
    "mov_avg(a1, n)"
   ]
  }
 ],
 "metadata": {
  "kernelspec": {
   "display_name": "Python 3",
   "language": "python",
   "name": "python3"
  },
  "language_info": {
   "codemirror_mode": {
    "name": "ipython",
    "version": 3
   },
   "file_extension": ".py",
   "mimetype": "text/x-python",
   "name": "python",
   "nbconvert_exporter": "python",
   "pygments_lexer": "ipython3",
   "version": "3.8.3"
  }
 },
 "nbformat": 4,
 "nbformat_minor": 4
}
